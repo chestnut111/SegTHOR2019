{
 "cells": [
  {
   "cell_type": "code",
   "execution_count": 4,
   "metadata": {},
   "outputs": [
    {
     "name": "stdout",
     "output_type": "stream",
     "text": [
      "The number of val data is 408\n"
     ]
    }
   ],
   "source": [
    "# coding: utf-8\n",
    "import numpy as np \n",
    "import pandas as pd \n",
    "import cv2\n",
    "import os \n",
    "import matplotlib.pyplot as plt\n",
    "import random\n",
    "\n",
    "# from utils import show_loss\n",
    "from cls_loss import  *\n",
    "from utils import *\n",
    "from conf import train_config\n",
    "\n",
    "data_foler = train_config.data_foler\n",
    "\n",
    "# To prepare data\n",
    "data_train = pd.read_csv(train_config.train_csv_path)\n",
    "data_val = pd.read_csv(train_config.val_csv_path)\n",
    "data_train_mb = data_train.loc[data_train[train_config.gt_class] == 1]\n",
    "data_val_mb = data_val.loc[data_val[train_config.gt_class] == 1]\n",
    "\n",
    "VALID_IMG_COUNT = len(data_val_mb)\n",
    "print('The number of val data is {}'.format(VALID_IMG_COUNT))\n",
    "valid_x, valid_y = next(make_image_gen2d(data_val_mb, VALID_IMG_COUNT))\n",
    "aug_gen = make_image_gen2d(data_train_mb, if_aug = True) #use imgaug s\n",
    "\n",
    "\n",
    "## Training parameter preparation for call_bask\n",
    "from utils import call\n",
    "callbacks_list = call(\n",
    "         weight_path = train_config.best_model_save_path, \n",
    "         monitor = train_config.monitor , \n",
    "         mode = train_config.mode, \n",
    "         reduce_lr_p = train_config.reduce_lr_p, \n",
    "         early_p = train_config.early_p, \n",
    "         log_csv_path = train_config.log_csv_path,\n",
    "         save_best_only = train_config.save_best_only, \n",
    "         save_weights_only = train_config.save_weights_only,\n",
    "         num_train = 5000, #train_IMG_COUNT\n",
    "         factor=0.5,\n",
    "         epsilon=0.0001,\n",
    "         cooldown=2,\n",
    "         min_lr=train_config.min_lr,\n",
    "         verbose=1)\n",
    "\n",
    "#Prepare model\n",
    "import keras\n",
    "from keras.applications.nasnet import NASNetLarge, NASNetMobile\n",
    "from keras.applications.xception import Xception\n",
    "from keras.applications.densenet import DenseNet121\n",
    "from classification_models.resnet import ResNet34\n",
    "\n",
    "model = DenseNet121(weights = train_config.encoder_weights, \n",
    "                 include_top= train_config.include_top, \n",
    "                 input_shape=(train_config.image_size*2, train_config.image_size*2, 3))\n",
    " \n",
    "from keras.models import Model\n",
    "def get_model(model,numclasses):\n",
    "    base_model = model \n",
    "    x = base_model.output\n",
    "    x = keras.layers.GlobalAveragePooling2D()(x)\n",
    "    x = keras.layers.Dropout(train_config.dropout_rate)(x) #\n",
    "    predictions = keras.layers.Dense(numclasses, activation='sigmoid')(x)\n",
    "    model = Model(inputs=base_model.input, outputs=predictions)\n",
    "    new_model = Model(inputs=base_model.input, outputs=base_model.output)\n",
    "    # Train top layer\n",
    "    for layer in base_model.layers:\n",
    "        layer.trainable = train_config.base_model_layer_trainable\n",
    "    return model, new_model\n",
    "\n",
    "#There are two models, one is to save the entire model, and one is not to save the top layer\n",
    "model, new_model = get_model(model, 1)\n",
    "from keras.utils import multi_gpu_model ##\n",
    "muti_model = multi_gpu_model(model, gpus=2) ##\n",
    "\n",
    "\n",
    "muti_model.compile(\n",
    "              loss=[focal_loss(alpha=.25, gamma=2)], \n",
    "              optimizer=keras.optimizers.Adam(0.001), \n",
    "              metrics=train_config.metrics)\n",
    "MAX_TRAIN_STEPS = train_config.MAX_TRAIN_STEPS\n",
    "step_count = min(train_config.MAX_TRAIN_STEPS, data_train.shape[0]//train_config.BATCH_SIZE) "
   ]
  },
  {
   "cell_type": "code",
   "execution_count": 5,
   "metadata": {},
   "outputs": [
    {
     "ename": "AttributeError",
     "evalue": "'NoneType' object has no attribute 'lr'",
     "output_type": "error",
     "traceback": [
      "\u001b[0;31m---------------------------------------------------------------------------\u001b[0m",
      "\u001b[0;31mAttributeError\u001b[0m                            Traceback (most recent call last)",
      "\u001b[0;32m<ipython-input-5-7be99fc4be00>\u001b[0m in \u001b[0;36m<module>\u001b[0;34m\u001b[0m\n\u001b[1;32m      1\u001b[0m \u001b[0;32mfrom\u001b[0m \u001b[0mclr\u001b[0m \u001b[0;32mimport\u001b[0m \u001b[0;34m*\u001b[0m\u001b[0;34m\u001b[0m\u001b[0;34m\u001b[0m\u001b[0m\n\u001b[1;32m      2\u001b[0m \u001b[0mlr_finder\u001b[0m \u001b[0;34m=\u001b[0m \u001b[0mLRFinder\u001b[0m\u001b[0;34m(\u001b[0m\u001b[0mmuti_model\u001b[0m\u001b[0;34m)\u001b[0m\u001b[0;34m\u001b[0m\u001b[0;34m\u001b[0m\u001b[0m\n\u001b[0;32m----> 3\u001b[0;31m \u001b[0mlr_finder\u001b[0m\u001b[0;34m.\u001b[0m\u001b[0mfind_gen\u001b[0m\u001b[0;34m(\u001b[0m\u001b[0maug_gen\u001b[0m\u001b[0;34m,\u001b[0m \u001b[0mstart_lr\u001b[0m\u001b[0;34m=\u001b[0m\u001b[0;36m0.0000001\u001b[0m\u001b[0;34m,\u001b[0m \u001b[0mend_lr\u001b[0m\u001b[0;34m=\u001b[0m\u001b[0;36m100\u001b[0m\u001b[0;34m,\u001b[0m \u001b[0mnum_train\u001b[0m \u001b[0;34m=\u001b[0m \u001b[0;36m5000\u001b[0m\u001b[0;34m,\u001b[0m \u001b[0mbatch_size\u001b[0m\u001b[0;34m=\u001b[0m\u001b[0;36m80\u001b[0m\u001b[0;34m,\u001b[0m \u001b[0mepochs\u001b[0m\u001b[0;34m=\u001b[0m\u001b[0;36m3\u001b[0m\u001b[0;34m)\u001b[0m\u001b[0;34m\u001b[0m\u001b[0;34m\u001b[0m\u001b[0m\n\u001b[0m\u001b[1;32m      4\u001b[0m \u001b[0;31m# lr_finder.plot_loss(n_skip_beginning=20, n_skip_end=5)\u001b[0m\u001b[0;34m\u001b[0m\u001b[0;34m\u001b[0m\u001b[0;34m\u001b[0m\u001b[0m\n\u001b[1;32m      5\u001b[0m \u001b[0;31m# plt.show()\u001b[0m\u001b[0;34m\u001b[0m\u001b[0;34m\u001b[0m\u001b[0;34m\u001b[0m\u001b[0m\n",
      "\u001b[0;32m~/SegTHOR/segthor/2d_cls/clr.py\u001b[0m in \u001b[0;36mfind_gen\u001b[0;34m(self, aug_gen, start_lr, end_lr, num_train, batch_size, epochs)\u001b[0m\n\u001b[1;32m    178\u001b[0m \u001b[0;34m\u001b[0m\u001b[0m\n\u001b[1;32m    179\u001b[0m         \u001b[0;31m# Remember the original learning rate\u001b[0m\u001b[0;34m\u001b[0m\u001b[0;34m\u001b[0m\u001b[0;34m\u001b[0m\u001b[0m\n\u001b[0;32m--> 180\u001b[0;31m         \u001b[0moriginal_lr\u001b[0m \u001b[0;34m=\u001b[0m \u001b[0mK\u001b[0m\u001b[0;34m.\u001b[0m\u001b[0mget_value\u001b[0m\u001b[0;34m(\u001b[0m\u001b[0mself\u001b[0m\u001b[0;34m.\u001b[0m\u001b[0mmodel\u001b[0m\u001b[0;34m.\u001b[0m\u001b[0moptimizer\u001b[0m\u001b[0;34m.\u001b[0m\u001b[0mlr\u001b[0m\u001b[0;34m)\u001b[0m\u001b[0;34m\u001b[0m\u001b[0;34m\u001b[0m\u001b[0m\n\u001b[0m\u001b[1;32m    181\u001b[0m \u001b[0;34m\u001b[0m\u001b[0m\n\u001b[1;32m    182\u001b[0m         \u001b[0;31m# Set the initial learning rate\u001b[0m\u001b[0;34m\u001b[0m\u001b[0;34m\u001b[0m\u001b[0;34m\u001b[0m\u001b[0m\n",
      "\u001b[0;31mAttributeError\u001b[0m: 'NoneType' object has no attribute 'lr'"
     ]
    }
   ],
   "source": [
    "from clr import *\n",
    "lr_finder = LRFinder(muti_model)\n",
    "lr_finder.find_gen(aug_gen, start_lr=0.0000001, end_lr=100, num_train = 5000, batch_size=80, epochs=3)\n",
    "# lr_finder.plot_loss(n_skip_beginning=20, n_skip_end=5)\n",
    "# plt.show()"
   ]
  },
  {
   "cell_type": "code",
   "execution_count": null,
   "metadata": {},
   "outputs": [],
   "source": [
    "lr_finder.plot_loss(n_skip_beginning=20, n_skip_end=5)\n",
    "plt.show()"
   ]
  },
  {
   "cell_type": "code",
   "execution_count": null,
   "metadata": {},
   "outputs": [],
   "source": []
  },
  {
   "cell_type": "code",
   "execution_count": null,
   "metadata": {},
   "outputs": [],
   "source": []
  }
 ],
 "metadata": {
  "kernelspec": {
   "display_name": "Python 3",
   "language": "python",
   "name": "python3"
  },
  "language_info": {
   "codemirror_mode": {
    "name": "ipython",
    "version": 3
   },
   "file_extension": ".py",
   "mimetype": "text/x-python",
   "name": "python",
   "nbconvert_exporter": "python",
   "pygments_lexer": "ipython3",
   "version": "3.6.8"
  }
 },
 "nbformat": 4,
 "nbformat_minor": 2
}
