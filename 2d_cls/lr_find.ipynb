{
 "cells": [
  {
   "cell_type": "code",
   "execution_count": 6,
   "metadata": {},
   "outputs": [
    {
     "name": "stdout",
     "output_type": "stream",
     "text": [
      "The number of val data is 408\n"
     ]
    }
   ],
   "source": [
    "# coding: utf-8\n",
    "import numpy as np \n",
    "import pandas as pd \n",
    "import cv2\n",
    "import os \n",
    "import matplotlib.pyplot as plt\n",
    "import random\n",
    "\n",
    "# from utils import show_loss\n",
    "from cls_loss import  *\n",
    "from utils import *\n",
    "from conf import train_config\n",
    "\n",
    "data_foler = train_config.data_foler\n",
    "\n",
    "# To prepare data\n",
    "data_train = pd.read_csv(train_config.train_csv_path)\n",
    "data_val = pd.read_csv(train_config.val_csv_path)\n",
    "data_train_mb = data_train.loc[data_train[train_config.gt_class] == 1]\n",
    "data_val_mb = data_val.loc[data_val[train_config.gt_class] == 1]\n",
    "\n",
    "VALID_IMG_COUNT = len(data_val_mb)\n",
    "print('The number of val data is {}'.format(VALID_IMG_COUNT))\n",
    "valid_x, valid_y = next(make_image_gen2d(data_val_mb, VALID_IMG_COUNT))\n",
    "aug_gen = make_image_gen2d(data_train_mb, if_aug = True) #use imgaug s\n",
    "\n",
    "\n",
    "## Training parameter preparation for call_bask\n",
    "from utils import call\n",
    "callbacks_list = call(\n",
    "         weight_path = train_config.best_model_save_path, \n",
    "         monitor = train_config.monitor , \n",
    "         mode = train_config.mode, \n",
    "         reduce_lr_p = train_config.reduce_lr_p, \n",
    "         early_p = train_config.early_p, \n",
    "         log_csv_path = train_config.log_csv_path,\n",
    "         save_best_only = train_config.save_best_only, \n",
    "         save_weights_only = train_config.save_weights_only,\n",
    "         num_train = 5000, #train_IMG_COUNT\n",
    "         factor=0.5,\n",
    "         epsilon=0.0001,\n",
    "         cooldown=2,\n",
    "         min_lr=train_config.min_lr,\n",
    "         verbose=1)\n",
    "\n",
    "#Prepare model\n",
    "import keras\n",
    "from keras.applications.nasnet import NASNetLarge, NASNetMobile\n",
    "from keras.applications.xception import Xception\n",
    "from keras.applications.densenet import DenseNet121\n",
    "from classification_models.resnet import ResNet34\n",
    "\n",
    "model = DenseNet121(weights = train_config.encoder_weights, \n",
    "                 include_top= train_config.include_top, \n",
    "                 input_shape=(train_config.image_size*2, train_config.image_size*2, 3))\n",
    " \n",
    "from keras.models import Model\n",
    "def get_model(model,numclasses):\n",
    "    base_model = model \n",
    "    x = base_model.output\n",
    "    x = keras.layers.GlobalAveragePooling2D()(x)\n",
    "    x = keras.layers.Dropout(train_config.dropout_rate)(x) #\n",
    "    predictions = keras.layers.Dense(numclasses, activation='sigmoid')(x)\n",
    "    model = Model(inputs=base_model.input, outputs=predictions)\n",
    "    new_model = Model(inputs=base_model.input, outputs=base_model.output)\n",
    "    # Train top layer\n",
    "    for layer in base_model.layers:\n",
    "        layer.trainable = train_config.base_model_layer_trainable\n",
    "    return model, new_model\n",
    "\n",
    "#There are two models, one is to save the entire model, and one is not to save the top layer\n",
    "model, new_model = get_model(model, 1)\n",
    "from keras.utils import multi_gpu_model ##\n",
    "muti_model = multi_gpu_model(model, gpus=2) ##\n",
    "\n",
    "\n",
    "muti_model.compile(\n",
    "              loss=[focal_loss(alpha=.25, gamma=2)], \n",
    "              optimizer=keras.optimizers.Adam(0.001), \n",
    "              metrics=train_config.metrics)\n",
    "MAX_TRAIN_STEPS = train_config.MAX_TRAIN_STEPS\n",
    "step_count = min(train_config.MAX_TRAIN_STEPS, data_train.shape[0]//train_config.BATCH_SIZE) "
   ]
  },
  {
   "cell_type": "code",
   "execution_count": 7,
   "metadata": {},
   "outputs": [
    {
     "name": "stdout",
     "output_type": "stream",
     "text": [
      "Epoch 1/3\n",
      "63/62 [==============================] - 144s 2s/step - loss: 14.5332 - acc: 0.3832\n",
      "Epoch 2/3\n",
      "63/62 [==============================] - 110s 2s/step - loss: 0.9277 - acc: 0.9468\n",
      "Epoch 3/3\n",
      "63/62 [==============================] - 111s 2s/step - loss: 2.7049e-09 - acc: 1.0000\n"
     ]
    }
   ],
   "source": [
    "from clr import *\n",
    "lr_finder = LRFinder(muti_model)\n",
    "lr_finder.find_gen(aug_gen, start_lr=0.0000001, end_lr=100, num_train = 5000, batch_size=80, epochs=3)\n",
    "# lr_finder.plot_loss(n_skip_beginning=20, n_skip_end=5)\n",
    "# plt.show()"
   ]
  },
  {
   "cell_type": "code",
   "execution_count": 8,
   "metadata": {},
   "outputs": [
    {
     "data": {
      "image/png": "[encoded data removed]",
      "text/plain": [
       "<Figure size 432x288 with 1 Axes>"
      ]
     },
     "metadata": {
      "needs_background": "light"
     },
     "output_type": "display_data"
    }
   ],
   "source": [
    "lr_finder.plot_loss(n_skip_beginning=20, n_skip_end=5)\n",
    "plt.show()"
   ]
  },
  {
   "cell_type": "code",
   "execution_count": null,
   "metadata": {},
   "outputs": [],
   "source": []
  },
  {
   "cell_type": "code",
   "execution_count": null,
   "metadata": {},
   "outputs": [],
   "source": []
  }
 ],
 "metadata": {
  "kernelspec": {
   "display_name": "Python 3",
   "language": "python",
   "name": "python3"
  },
  "language_info": {
   "codemirror_mode": {
    "name": "ipython",
    "version": 3
   },
   "file_extension": ".py",
   "mimetype": "text/x-python",
   "name": "python",
   "nbconvert_exporter": "python",
   "pygments_lexer": "ipython3",
   "version": "3.6.8"
  }
 },
 "nbformat": 4,
 "nbformat_minor": 2
}
