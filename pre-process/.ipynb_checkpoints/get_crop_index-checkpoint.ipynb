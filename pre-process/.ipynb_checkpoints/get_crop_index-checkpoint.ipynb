{
 "cells": [
  {
   "cell_type": "code",
   "execution_count": 1,
   "metadata": {},
   "outputs": [],
   "source": [
    "import pandas as pd \n",
    "import numpy as np\n",
    "import os \n",
    "import nibabel as nib"
   ]
  },
  {
   "cell_type": "code",
   "execution_count": 2,
   "metadata": {},
   "outputs": [],
   "source": [
    "indir = '/home/wanglixin/SegTHOR/input/segthor_gz/train'\n",
    "\n",
    "test_indir = '/home/wanglixin/SegTHOR/input/test'\n",
    "\n",
    "tr_list = [ 5, 33, 26,  2, 13, 27, 20, 40,  6, 19, 36, 18, 35, 22, 11, 28,  7,\n",
    "        37, 29,  8, 30, 24, 16, 10, 38, 21,  4, 32,  9, 23, 25, 31]\n",
    "va_list = [1, 39, 34, 12, 17, 14, 15, 3]\n",
    "\n",
    "test_list = np.range(41,61)"
   ]
  },
  {
   "cell_type": "code",
   "execution_count": 3,
   "metadata": {},
   "outputs": [
    {
     "data": {
      "text/plain": [
       "35"
      ]
     },
     "execution_count": 3,
     "metadata": {},
     "output_type": "execute_result"
    }
   ],
   "source": [
    "tr_list[tr_list.index(35)]"
   ]
  },
  {
   "cell_type": "code",
   "execution_count": 4,
   "metadata": {},
   "outputs": [],
   "source": [
    "def have_back(image):\n",
    "    background_value=0\n",
    "    tolerance=0.00001\n",
    "#     is_foreground = np.logical_or(image.get_data() < (background_value - tolerance),\n",
    "#                                   image.get_data()> (background_value + tolerance))\n",
    "    is_foreground = np.logical_or(image.get_data() < -1001,\n",
    "                                  image.get_data()> -225)\n",
    "    foreground = np.zeros(is_foreground.shape, dtype=np.uint8)\n",
    "    foreground[is_foreground] = 1\n",
    "    return foreground\n",
    "\n",
    "\n",
    "from nilearn.image.image import _crop_img_to as crop_img_to\n",
    "\n",
    "def crop_img(data, rtol=1e-8):\n",
    "\n",
    "    infinity_norm = max(-data.min(), data.max())\n",
    "    passes_threshold = np.logical_or(data < -rtol * infinity_norm,\n",
    "                                     data > rtol * infinity_norm)  ##\n",
    "    if data.ndim == 4:\n",
    "        passes_threshold = np.any(passes_threshold, axis=-1)\n",
    "        \n",
    "    coords = np.array(np.where(passes_threshold))\n",
    "    start = coords.min(axis=1)\n",
    "    end = coords.max(axis=1) + 1\n",
    "\n",
    "    # pad with one voxel to avoid resampling problems\n",
    "    start = np.maximum(start - 1, 0)\n",
    "    end = np.minimum(end + 1, data.shape[:3])\n",
    "\n",
    "    slices = [ s, e for s, e in zip(start, end)]\n",
    "    return slices\n",
    "\n",
    "def processing(tr_list,indir):\n",
    "    out = []\n",
    "    for x in tr_list:\n",
    "        sd = str(x).zfill(2)\n",
    "        file_thor = os.path.join(indir, 'Patient_' + sd + '.nii.gz')\n",
    "        image = nib.load(file_thor)\n",
    "        \n",
    "        foreground = have_back(image)\n",
    "        \n",
    "        crop = crop_img(foreground)\n",
    "        \n",
    "        out.append(crop)\n",
    "    return out"
   ]
  },
  {
   "cell_type": "code",
   "execution_count": 5,
   "metadata": {},
   "outputs": [],
   "source": [
    "out1 = processing(tr_list, indir)\n",
    "#for validate\n",
    "# out2 = processing(va_list, indir)"
   ]
  },
  {
   "cell_type": "code",
   "execution_count": 6,
   "metadata": {
    "scrolled": true
   },
   "outputs": [
    {
     "data": {
      "text/plain": [
       "[[394, 261, 184],\n",
       " [400, 315, 163],\n",
       " [395, 351, 147],\n",
       " [400, 285, 146],\n",
       " [397, 331, 128],\n",
       " [397, 289, 113],\n",
       " [333, 226, 106],\n",
       " [407, 294, 103],\n",
       " [378, 271, 99],\n",
       " [412, 329, 90],\n",
       " [411, 278, 88],\n",
       " [409, 294, 83],\n",
       " [294, 267, 81],\n",
       " [357, 278, 81],\n",
       " [327, 241, 80],\n",
       " [409, 343, 79],\n",
       " [360, 298, 79],\n",
       " [410, 291, 76],\n",
       " [412, 274, 73],\n",
       " [395, 288, 71],\n",
       " [394, 386, 71],\n",
       " [374, 347, 68],\n",
       " [409, 320, 66],\n",
       " [403, 342, 63],\n",
       " [374, 291, 59],\n",
       " [408, 288, 58],\n",
       " [377, 253, 58],\n",
       " [371, 293, 57],\n",
       " [361, 280, 54],\n",
       " [397, 280, 53],\n",
       " [409, 276, 50],\n",
       " [411, 236, 48]]"
      ]
     },
     "execution_count": 6,
     "metadata": {},
     "output_type": "execute_result"
    }
   ],
   "source": [
    "out1"
   ]
  },
  {
   "cell_type": "code",
   "execution_count": null,
   "metadata": {},
   "outputs": [],
   "source": []
  }
 ],
 "metadata": {
  "kernelspec": {
   "display_name": "Python 3",
   "language": "python",
   "name": "python3"
  },
  "language_info": {
   "codemirror_mode": {
    "name": "ipython",
    "version": 3
   },
   "file_extension": ".py",
   "mimetype": "text/x-python",
   "name": "python",
   "nbconvert_exporter": "python",
   "pygments_lexer": "ipython3",
   "version": "3.6.5"
  }
 },
 "nbformat": 4,
 "nbformat_minor": 2
}
