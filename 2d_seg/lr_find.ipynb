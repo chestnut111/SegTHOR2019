{
 "cells": [
  {
   "cell_type": "code",
   "execution_count": 9,
   "metadata": {},
   "outputs": [
    {
     "name": "stderr",
     "output_type": "stream",
     "text": [
      "/opt/anaconda3/envs/py36_tensorflow-1.12.2/lib/python3.6/site-packages/ipykernel_launcher.py:27: FutureWarning: Sorting because non-concatenation axis is not aligned. A future version\n",
      "of pandas will change to not sort by default.\n",
      "\n",
      "To accept the future behavior, pass 'sort=False'.\n",
      "\n",
      "To retain the current behavior and silence the warning, pass 'sort=True'.\n",
      "\n"
     ]
    },
    {
     "name": "stdout",
     "output_type": "stream",
     "text": [
      "The number of val data is 784\n",
      "The number of train data is 3136\n"
     ]
    },
    {
     "name": "stderr",
     "output_type": "stream",
     "text": [
      "/opt/anaconda3/envs/py36_tensorflow-1.12.2/lib/python3.6/site-packages/keras/callbacks.py:1065: UserWarning: `epsilon` argument is deprecated and will be removed, use `min_delta` instead.\n",
      "  warnings.warn('`epsilon` argument is deprecated and '\n"
     ]
    }
   ],
   "source": [
    "# coding: utf-8\n",
    "import numpy as np \n",
    "import pandas as pd \n",
    "import cv2\n",
    "import os \n",
    "import matplotlib.pyplot as plt\n",
    "import random\n",
    "\n",
    "# from utils import show_loss\n",
    "from seg_loss import  *\n",
    "from utils import *\n",
    "from conf import train_config\n",
    "\n",
    "data_foler = train_config.data_foler\n",
    "\n",
    "# To prepare data\n",
    "data_train = pd.read_csv(train_config.train_csv_path)\n",
    "data_val = pd.read_csv(train_config.val_csv_path)\n",
    "data_train_mb = data_train.loc[data_train[train_config.gt_class] == 1]\n",
    "data_val_mb = data_val.loc[data_val[train_config.gt_class] == 1]\n",
    "\n",
    "# data_train_mb = data_train ###\n",
    "# data_val_mb = data_val ###\n",
    "\n",
    "# ###\n",
    "ll = [data_train_mb, data_val_mb]\n",
    "data_all = pd.concat(ll)\n",
    "from sklearn.model_selection import train_test_split\n",
    "data_train_mb, data_val_mb = train_test_split(data_all, test_size=0.2, random_state=101010, stratify = data_all['red'])\n",
    "###\n",
    "\n",
    "\n",
    "VALID_IMG_COUNT = len(data_val_mb)\n",
    "print('The number of val data is {}'.format(VALID_IMG_COUNT))\n",
    "train_IMG_COUNT = len(data_train_mb)\n",
    "print('The number of train data is {}'.format(train_IMG_COUNT))\n",
    "\n",
    "valid_x, valid_y = next(make_image_gen2d_center(data_val_mb, VALID_IMG_COUNT))\n",
    "aug_gen = make_image_gen2d_center(data_train_mb, if_aug = True) #use imgaug s\n",
    "\n",
    "\n",
    "## Training parameter preparation for call_bask\n",
    "from utils import call\n",
    "callbacks_list = call(\n",
    "         weight_path = train_config.best_model_save_path, \n",
    "         monitor = train_config.monitor , \n",
    "         mode = train_config.mode, \n",
    "         reduce_lr_p = train_config.reduce_lr_p, \n",
    "         early_p = train_config.early_p, \n",
    "         log_csv_path = train_config.log_csv_path,\n",
    "         save_best_only = train_config.save_best_only, \n",
    "         save_weights_only = train_config.save_weights_only,\n",
    "         num_train = 5000, #train_IMG_COUNT\n",
    "         factor=0.5,\n",
    "         epsilon=0.0001,\n",
    "         cooldown=2,\n",
    "         min_lr=train_config.min_lr,\n",
    "         verbose=1)\n",
    "\n",
    "from segmentation_models import Unet\n",
    "model = Unet(train_config.BACKBONE, encoder_weights = train_config.encoder_weights, encoder_freeze=False)\n",
    "step_count = min(train_config.MAX_TRAIN_STEPS, 5000//train_config.BATCH_SIZE)\n",
    "\n",
    "if train_config.pretrain:\n",
    "    model.load_weights(train_config.pretrain_model_path)\n",
    "\n",
    "from keras.utils import multi_gpu_model \n",
    "muti_model = multi_gpu_model(model, gpus=2) \n",
    "\n",
    "optimizer = keras.optimizers.SGD(lr = train_config.base_lr, decay= train_config.weight_decay, momentum = train_config.momentum, nesterov=True)#Adam(0.001) 666\n",
    "\n",
    "muti_model.compile(optimizer = keras.optimizers.Adam(0.001), loss = train_config.loss, metrics=train_config.metrics)"
   ]
  },
  {
   "cell_type": "code",
   "execution_count": 10,
   "metadata": {},
   "outputs": [
    {
     "name": "stdout",
     "output_type": "stream",
     "text": [
      "Epoch 1/10\n",
      "10/10 [==============================] - 21s 2s/step - loss: 0.7932 - dice_coef: 0.0472 - binary_accuracy: 0.5290 - true_positive_rate: 0.5054\n",
      "Epoch 2/10\n",
      "10/10 [==============================] - 8s 835ms/step - loss: 0.7919 - dice_coef: 0.0486 - binary_accuracy: 0.5288 - true_positive_rate: 0.5213\n",
      "Epoch 3/10\n",
      "10/10 [==============================] - 11s 1s/step - loss: 0.7844 - dice_coef: 0.0490 - binary_accuracy: 0.5401 - true_positive_rate: 0.5183\n",
      "Epoch 4/10\n",
      "10/10 [==============================] - 11s 1s/step - loss: 0.7444 - dice_coef: 0.0500 - binary_accuracy: 0.5956 - true_positive_rate: 0.4868\n",
      "Epoch 5/10\n",
      "10/10 [==============================] - 11s 1s/step - loss: 0.5817 - dice_coef: 0.0484 - binary_accuracy: 0.8158 - true_positive_rate: 0.2350\n",
      "Epoch 6/10\n",
      "10/10 [==============================] - 11s 1s/step - loss: 0.3186 - dice_coef: 0.0483 - binary_accuracy: 0.9644 - true_positive_rate: 0.0313\n",
      "Epoch 7/10\n",
      "10/10 [==============================] - 11s 1s/step - loss: 0.1213 - dice_coef: 0.0555 - binary_accuracy: 0.9695 - true_positive_rate: 0.0011\n",
      "Epoch 8/10\n",
      "10/10 [==============================] - 11s 1s/step - loss: 0.1061 - dice_coef: 0.0583 - binary_accuracy: 0.9706 - true_positive_rate: 0.0000e+00\n",
      "Epoch 9/10\n",
      "10/10 [==============================] - 11s 1s/step - loss: 0.1005 - dice_coef: 0.0769 - binary_accuracy: 0.9705 - true_positive_rate: 0.0000e+00\n",
      "Epoch 10/10\n",
      "10/10 [==============================] - 11s 1s/step - loss: 0.1258 - dice_coef: 0.0842 - binary_accuracy: 0.9694 - true_positive_rate: 0.0000e+00\n"
     ]
    }
   ],
   "source": [
    "from clr import *\n",
    "lr_finder = LRFinder(muti_model)\n",
    "lr_finder.find_gen(aug_gen, start_lr=0.0000001, end_lr=10, num_train = 5000, batch_size=500, epochs=10)\n",
    "# lr_finder.plot_loss(n_skip_beginning=20, n_skip_end=5)\n",
    "# plt.show()"
   ]
  },
  {
   "cell_type": "code",
   "execution_count": 11,
   "metadata": {},
   "outputs": [
    {
     "data": {
      "image/png": "[encoded data removed]",
      "text/plain": [
       "<Figure size 432x288 with 1 Axes>"
      ]
     },
     "metadata": {
      "needs_background": "light"
     },
     "output_type": "display_data"
    }
   ],
   "source": [
    "lr_finder.plot_loss(n_skip_beginning=20, n_skip_end=5)\n",
    "plt.show()"
   ]
  },
  {
   "cell_type": "code",
   "execution_count": null,
   "metadata": {},
   "outputs": [],
   "source": []
  },
  {
   "cell_type": "code",
   "execution_count": null,
   "metadata": {},
   "outputs": [],
   "source": []
  },
  {
   "cell_type": "code",
   "execution_count": null,
   "metadata": {},
   "outputs": [],
   "source": []
  }
 ],
 "metadata": {
  "kernelspec": {
   "display_name": "Python 3",
   "language": "python",
   "name": "python3"
  },
  "language_info": {
   "codemirror_mode": {
    "name": "ipython",
    "version": 3
   },
   "file_extension": ".py",
   "mimetype": "text/x-python",
   "name": "python",
   "nbconvert_exporter": "python",
   "pygments_lexer": "ipython3",
   "version": "3.6.8"
  }
 },
 "nbformat": 4,
 "nbformat_minor": 2
}
