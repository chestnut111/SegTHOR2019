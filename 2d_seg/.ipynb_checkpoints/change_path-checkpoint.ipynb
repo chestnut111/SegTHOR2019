{
 "cells": [
  {
   "cell_type": "code",
   "execution_count": 11,
   "metadata": {},
   "outputs": [],
   "source": [
    "import numpy as np \n",
    "import pandas as pd \n",
    "import cv2\n",
    "import os \n",
    "import seaborn as sns\n",
    "import matplotlib.pyplot as plt\n",
    "import random\n",
    "import colorsys\n",
    "\n",
    "# test_csv = '/public/lixin/SegTHOR/segthor/2d_try/test_info_add_cls_update_all.csv'\n",
    "# data_train = pd.read_csv('train_label_info_new.csv')\n",
    "data_val = pd.read_csv('val_label_info_new2.csv')\n",
    "data_train = data_val\n",
    "# data_test = pd.read_csv(test_csv)"
   ]
  },
  {
   "cell_type": "code",
   "execution_count": 12,
   "metadata": {},
   "outputs": [
    {
     "data": {
      "text/html": [
       "<div>\n",
       "<style scoped>\n",
       "    .dataframe tbody tr th:only-of-type {\n",
       "        vertical-align: middle;\n",
       "    }\n",
       "\n",
       "    .dataframe tbody tr th {\n",
       "        vertical-align: top;\n",
       "    }\n",
       "\n",
       "    .dataframe thead th {\n",
       "        text-align: right;\n",
       "    }\n",
       "</style>\n",
       "<table border=\"1\" class=\"dataframe\">\n",
       "  <thead>\n",
       "    <tr style=\"text-align: right;\">\n",
       "      <th></th>\n",
       "      <th>filename</th>\n",
       "      <th>maskname</th>\n",
       "      <th>red</th>\n",
       "      <th>pink</th>\n",
       "      <th>yellow</th>\n",
       "      <th>blue</th>\n",
       "      <th>p_red</th>\n",
       "      <th>p_pink</th>\n",
       "      <th>p_yellow</th>\n",
       "      <th>p_blue</th>\n",
       "      <th>folder</th>\n",
       "      <th>y_s</th>\n",
       "      <th>y_e</th>\n",
       "      <th>x_s</th>\n",
       "      <th>x_e</th>\n",
       "    </tr>\n",
       "  </thead>\n",
       "  <tbody>\n",
       "    <tr>\n",
       "      <th>0</th>\n",
       "      <td>/public/lixin/SegTHOR/input/train_fla/validate...</td>\n",
       "      <td>/public/lixin/SegTHOR/input/train_fla/validate...</td>\n",
       "      <td>1</td>\n",
       "      <td>1</td>\n",
       "      <td>0</td>\n",
       "      <td>1</td>\n",
       "      <td>1.0</td>\n",
       "      <td>1.0</td>\n",
       "      <td>0.0</td>\n",
       "      <td>1.0</td>\n",
       "      <td>3</td>\n",
       "      <td>1</td>\n",
       "      <td>508</td>\n",
       "      <td>144</td>\n",
       "      <td>505</td>\n",
       "    </tr>\n",
       "    <tr>\n",
       "      <th>1</th>\n",
       "      <td>/public/lixin/SegTHOR/input/train_fla/validate...</td>\n",
       "      <td>/public/lixin/SegTHOR/input/train_fla/validate...</td>\n",
       "      <td>1</td>\n",
       "      <td>1</td>\n",
       "      <td>0</td>\n",
       "      <td>1</td>\n",
       "      <td>1.0</td>\n",
       "      <td>1.0</td>\n",
       "      <td>0.0</td>\n",
       "      <td>1.0</td>\n",
       "      <td>3</td>\n",
       "      <td>1</td>\n",
       "      <td>508</td>\n",
       "      <td>144</td>\n",
       "      <td>505</td>\n",
       "    </tr>\n",
       "    <tr>\n",
       "      <th>2</th>\n",
       "      <td>/public/lixin/SegTHOR/input/train_fla/validate...</td>\n",
       "      <td>/public/lixin/SegTHOR/input/train_fla/validate...</td>\n",
       "      <td>1</td>\n",
       "      <td>0</td>\n",
       "      <td>1</td>\n",
       "      <td>1</td>\n",
       "      <td>1.0</td>\n",
       "      <td>0.0</td>\n",
       "      <td>1.0</td>\n",
       "      <td>1.0</td>\n",
       "      <td>3</td>\n",
       "      <td>1</td>\n",
       "      <td>508</td>\n",
       "      <td>144</td>\n",
       "      <td>505</td>\n",
       "    </tr>\n",
       "    <tr>\n",
       "      <th>3</th>\n",
       "      <td>/public/lixin/SegTHOR/input/train_fla/validate...</td>\n",
       "      <td>/public/lixin/SegTHOR/input/train_fla/validate...</td>\n",
       "      <td>1</td>\n",
       "      <td>1</td>\n",
       "      <td>0</td>\n",
       "      <td>1</td>\n",
       "      <td>1.0</td>\n",
       "      <td>1.0</td>\n",
       "      <td>0.0</td>\n",
       "      <td>1.0</td>\n",
       "      <td>3</td>\n",
       "      <td>1</td>\n",
       "      <td>508</td>\n",
       "      <td>144</td>\n",
       "      <td>505</td>\n",
       "    </tr>\n",
       "    <tr>\n",
       "      <th>4</th>\n",
       "      <td>/public/lixin/SegTHOR/input/train_fla/validate...</td>\n",
       "      <td>/public/lixin/SegTHOR/input/train_fla/validate...</td>\n",
       "      <td>1</td>\n",
       "      <td>1</td>\n",
       "      <td>0</td>\n",
       "      <td>1</td>\n",
       "      <td>1.0</td>\n",
       "      <td>1.0</td>\n",
       "      <td>0.0</td>\n",
       "      <td>1.0</td>\n",
       "      <td>3</td>\n",
       "      <td>1</td>\n",
       "      <td>508</td>\n",
       "      <td>144</td>\n",
       "      <td>505</td>\n",
       "    </tr>\n",
       "  </tbody>\n",
       "</table>\n",
       "</div>"
      ],
      "text/plain": [
       "                                            filename  \\\n",
       "0  /public/lixin/SegTHOR/input/train_fla/validate...   \n",
       "1  /public/lixin/SegTHOR/input/train_fla/validate...   \n",
       "2  /public/lixin/SegTHOR/input/train_fla/validate...   \n",
       "3  /public/lixin/SegTHOR/input/train_fla/validate...   \n",
       "4  /public/lixin/SegTHOR/input/train_fla/validate...   \n",
       "\n",
       "                                            maskname  red  pink  yellow  blue  \\\n",
       "0  /public/lixin/SegTHOR/input/train_fla/validate...    1     1       0     1   \n",
       "1  /public/lixin/SegTHOR/input/train_fla/validate...    1     1       0     1   \n",
       "2  /public/lixin/SegTHOR/input/train_fla/validate...    1     0       1     1   \n",
       "3  /public/lixin/SegTHOR/input/train_fla/validate...    1     1       0     1   \n",
       "4  /public/lixin/SegTHOR/input/train_fla/validate...    1     1       0     1   \n",
       "\n",
       "   p_red  p_pink  p_yellow  p_blue  folder  y_s  y_e  x_s  x_e  \n",
       "0    1.0     1.0       0.0     1.0       3    1  508  144  505  \n",
       "1    1.0     1.0       0.0     1.0       3    1  508  144  505  \n",
       "2    1.0     0.0       1.0     1.0       3    1  508  144  505  \n",
       "3    1.0     1.0       0.0     1.0       3    1  508  144  505  \n",
       "4    1.0     1.0       0.0     1.0       3    1  508  144  505  "
      ]
     },
     "execution_count": 12,
     "metadata": {},
     "output_type": "execute_result"
    }
   ],
   "source": [
    "data_train.head()"
   ]
  },
  {
   "cell_type": "code",
   "execution_count": 13,
   "metadata": {},
   "outputs": [],
   "source": [
    "train_mask_name = data_train['maskname'].values"
   ]
  },
  {
   "cell_type": "code",
   "execution_count": 14,
   "metadata": {},
   "outputs": [
    {
     "data": {
      "text/plain": [
       "'/public/lixin/SegTHOR/input/train_fla/validates/03/images/Patient_03_52.png'"
      ]
     },
     "execution_count": 14,
     "metadata": {},
     "output_type": "execute_result"
    }
   ],
   "source": [
    "train_mask_name[0]"
   ]
  },
  {
   "cell_type": "code",
   "execution_count": 4,
   "metadata": {},
   "outputs": [],
   "source": [
    "\n",
    "mm = []\n",
    "for m in train_mask_name:\n",
    "    mm.append(m.replace(\"images/Patient\", \"marks/GT\"))\n",
    "    "
   ]
  },
  {
   "cell_type": "code",
   "execution_count": 5,
   "metadata": {},
   "outputs": [
    {
     "data": {
      "text/plain": [
       "'/public/lixin/SegTHOR/input/train_fla/train/35/marks/GT_35_40.png'"
      ]
     },
     "execution_count": 5,
     "metadata": {},
     "output_type": "execute_result"
    }
   ],
   "source": [
    "mm[0]"
   ]
  },
  {
   "cell_type": "code",
   "execution_count": 6,
   "metadata": {},
   "outputs": [],
   "source": [
    "\n",
    "data_train['maskname'] = mm"
   ]
  },
  {
   "cell_type": "code",
   "execution_count": 7,
   "metadata": {
    "scrolled": true
   },
   "outputs": [
    {
     "data": {
      "text/html": [
       "<div>\n",
       "<style scoped>\n",
       "    .dataframe tbody tr th:only-of-type {\n",
       "        vertical-align: middle;\n",
       "    }\n",
       "\n",
       "    .dataframe tbody tr th {\n",
       "        vertical-align: top;\n",
       "    }\n",
       "\n",
       "    .dataframe thead th {\n",
       "        text-align: right;\n",
       "    }\n",
       "</style>\n",
       "<table border=\"1\" class=\"dataframe\">\n",
       "  <thead>\n",
       "    <tr style=\"text-align: right;\">\n",
       "      <th></th>\n",
       "      <th>filename</th>\n",
       "      <th>maskname</th>\n",
       "      <th>red</th>\n",
       "      <th>pink</th>\n",
       "      <th>yellow</th>\n",
       "      <th>blue</th>\n",
       "      <th>folder</th>\n",
       "      <th>y_s</th>\n",
       "      <th>y_e</th>\n",
       "      <th>x_s</th>\n",
       "      <th>x_e</th>\n",
       "    </tr>\n",
       "  </thead>\n",
       "  <tbody>\n",
       "    <tr>\n",
       "      <th>0</th>\n",
       "      <td>/public/lixin/SegTHOR/input/train_fla/train/35...</td>\n",
       "      <td>/public/lixin/SegTHOR/input/train_fla/train/35...</td>\n",
       "      <td>1</td>\n",
       "      <td>1</td>\n",
       "      <td>0</td>\n",
       "      <td>1</td>\n",
       "      <td>35</td>\n",
       "      <td>58</td>\n",
       "      <td>452</td>\n",
       "      <td>145</td>\n",
       "      <td>512</td>\n",
       "    </tr>\n",
       "    <tr>\n",
       "      <th>1</th>\n",
       "      <td>/public/lixin/SegTHOR/input/train_fla/train/35...</td>\n",
       "      <td>/public/lixin/SegTHOR/input/train_fla/train/35...</td>\n",
       "      <td>1</td>\n",
       "      <td>1</td>\n",
       "      <td>0</td>\n",
       "      <td>1</td>\n",
       "      <td>35</td>\n",
       "      <td>58</td>\n",
       "      <td>452</td>\n",
       "      <td>145</td>\n",
       "      <td>512</td>\n",
       "    </tr>\n",
       "    <tr>\n",
       "      <th>2</th>\n",
       "      <td>/public/lixin/SegTHOR/input/train_fla/train/35...</td>\n",
       "      <td>/public/lixin/SegTHOR/input/train_fla/train/35...</td>\n",
       "      <td>1</td>\n",
       "      <td>1</td>\n",
       "      <td>0</td>\n",
       "      <td>1</td>\n",
       "      <td>35</td>\n",
       "      <td>58</td>\n",
       "      <td>452</td>\n",
       "      <td>145</td>\n",
       "      <td>512</td>\n",
       "    </tr>\n",
       "    <tr>\n",
       "      <th>3</th>\n",
       "      <td>/public/lixin/SegTHOR/input/train_fla/train/35...</td>\n",
       "      <td>/public/lixin/SegTHOR/input/train_fla/train/35...</td>\n",
       "      <td>1</td>\n",
       "      <td>1</td>\n",
       "      <td>0</td>\n",
       "      <td>1</td>\n",
       "      <td>35</td>\n",
       "      <td>58</td>\n",
       "      <td>452</td>\n",
       "      <td>145</td>\n",
       "      <td>512</td>\n",
       "    </tr>\n",
       "    <tr>\n",
       "      <th>4</th>\n",
       "      <td>/public/lixin/SegTHOR/input/train_fla/train/35...</td>\n",
       "      <td>/public/lixin/SegTHOR/input/train_fla/train/35...</td>\n",
       "      <td>0</td>\n",
       "      <td>0</td>\n",
       "      <td>0</td>\n",
       "      <td>0</td>\n",
       "      <td>35</td>\n",
       "      <td>58</td>\n",
       "      <td>452</td>\n",
       "      <td>145</td>\n",
       "      <td>512</td>\n",
       "    </tr>\n",
       "  </tbody>\n",
       "</table>\n",
       "</div>"
      ],
      "text/plain": [
       "                                            filename  \\\n",
       "0  /public/lixin/SegTHOR/input/train_fla/train/35...   \n",
       "1  /public/lixin/SegTHOR/input/train_fla/train/35...   \n",
       "2  /public/lixin/SegTHOR/input/train_fla/train/35...   \n",
       "3  /public/lixin/SegTHOR/input/train_fla/train/35...   \n",
       "4  /public/lixin/SegTHOR/input/train_fla/train/35...   \n",
       "\n",
       "                                            maskname  red  pink  yellow  blue  \\\n",
       "0  /public/lixin/SegTHOR/input/train_fla/train/35...    1     1       0     1   \n",
       "1  /public/lixin/SegTHOR/input/train_fla/train/35...    1     1       0     1   \n",
       "2  /public/lixin/SegTHOR/input/train_fla/train/35...    1     1       0     1   \n",
       "3  /public/lixin/SegTHOR/input/train_fla/train/35...    1     1       0     1   \n",
       "4  /public/lixin/SegTHOR/input/train_fla/train/35...    0     0       0     0   \n",
       "\n",
       "   folder  y_s  y_e  x_s  x_e  \n",
       "0      35   58  452  145  512  \n",
       "1      35   58  452  145  512  \n",
       "2      35   58  452  145  512  \n",
       "3      35   58  452  145  512  \n",
       "4      35   58  452  145  512  "
      ]
     },
     "execution_count": 7,
     "metadata": {},
     "output_type": "execute_result"
    }
   ],
   "source": [
    "data_train.head()"
   ]
  },
  {
   "cell_type": "code",
   "execution_count": 8,
   "metadata": {},
   "outputs": [],
   "source": [
    "# data_test.to_csv('/public/lixin/SegTHOR/segthor/2d_try/test_info_add_cls_update_all.csv',index=False)"
   ]
  },
  {
   "cell_type": "code",
   "execution_count": 9,
   "metadata": {},
   "outputs": [],
   "source": [
    "data_train.to_csv('train_label_info_new.csv',index=False)"
   ]
  },
  {
   "cell_type": "code",
   "execution_count": 10,
   "metadata": {},
   "outputs": [
    {
     "data": {
      "text/plain": [
       "'/public/lixin/SegTHOR/input/train_fla/train/35/marks/GT_35_40.png'"
      ]
     },
     "execution_count": 10,
     "metadata": {},
     "output_type": "execute_result"
    }
   ],
   "source": [
    "data_train['maskname'].values[0]"
   ]
  },
  {
   "cell_type": "code",
   "execution_count": null,
   "metadata": {},
   "outputs": [],
   "source": []
  }
 ],
 "metadata": {
  "kernelspec": {
   "display_name": "Python 3",
   "language": "python",
   "name": "python3"
  },
  "language_info": {
   "codemirror_mode": {
    "name": "ipython",
    "version": 3
   },
   "file_extension": ".py",
   "mimetype": "text/x-python",
   "name": "python",
   "nbconvert_exporter": "python",
   "pygments_lexer": "ipython3",
   "version": "3.6.8"
  }
 },
 "nbformat": 4,
 "nbformat_minor": 2
}
